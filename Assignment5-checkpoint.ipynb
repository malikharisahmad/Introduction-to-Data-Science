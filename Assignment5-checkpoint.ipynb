{
 "cells": [
  {
   "cell_type": "markdown",
   "id": "fff206b1",
   "metadata": {},
   "source": [
    "<h1>Task 01</h1>"
   ]
  },
  {
   "cell_type": "code",
   "execution_count": 126,
   "id": "eb7560de",
   "metadata": {},
   "outputs": [],
   "source": [
    "import pandas as pd     #Imporing pandas library"
   ]
  },
  {
   "cell_type": "code",
   "execution_count": 127,
   "id": "9a09cc67",
   "metadata": {},
   "outputs": [
    {
     "data": {
      "text/html": [
       "<div>\n",
       "<style scoped>\n",
       "    .dataframe tbody tr th:only-of-type {\n",
       "        vertical-align: middle;\n",
       "    }\n",
       "\n",
       "    .dataframe tbody tr th {\n",
       "        vertical-align: top;\n",
       "    }\n",
       "\n",
       "    .dataframe thead th {\n",
       "        text-align: right;\n",
       "    }\n",
       "</style>\n",
       "<table border=\"1\" class=\"dataframe\">\n",
       "  <thead>\n",
       "    <tr style=\"text-align: right;\">\n",
       "      <th></th>\n",
       "      <th>CustomerID</th>\n",
       "      <th>Age</th>\n",
       "      <th>City</th>\n",
       "    </tr>\n",
       "  </thead>\n",
       "  <tbody>\n",
       "    <tr>\n",
       "      <th>0</th>\n",
       "      <td>1</td>\n",
       "      <td>22</td>\n",
       "      <td>New York</td>\n",
       "    </tr>\n",
       "    <tr>\n",
       "      <th>1</th>\n",
       "      <td>2</td>\n",
       "      <td>23</td>\n",
       "      <td>Los Angeles</td>\n",
       "    </tr>\n",
       "    <tr>\n",
       "      <th>2</th>\n",
       "      <td>3</td>\n",
       "      <td>24</td>\n",
       "      <td>Chicago</td>\n",
       "    </tr>\n",
       "    <tr>\n",
       "      <th>3</th>\n",
       "      <td>4</td>\n",
       "      <td>25</td>\n",
       "      <td>Houston</td>\n",
       "    </tr>\n",
       "    <tr>\n",
       "      <th>4</th>\n",
       "      <td>5</td>\n",
       "      <td>26</td>\n",
       "      <td>Phoenix</td>\n",
       "    </tr>\n",
       "    <tr>\n",
       "      <th>...</th>\n",
       "      <td>...</td>\n",
       "      <td>...</td>\n",
       "      <td>...</td>\n",
       "    </tr>\n",
       "    <tr>\n",
       "      <th>95</th>\n",
       "      <td>96</td>\n",
       "      <td>27</td>\n",
       "      <td>New York</td>\n",
       "    </tr>\n",
       "    <tr>\n",
       "      <th>96</th>\n",
       "      <td>97</td>\n",
       "      <td>28</td>\n",
       "      <td>Los Angeles</td>\n",
       "    </tr>\n",
       "    <tr>\n",
       "      <th>97</th>\n",
       "      <td>98</td>\n",
       "      <td>29</td>\n",
       "      <td>Chicago</td>\n",
       "    </tr>\n",
       "    <tr>\n",
       "      <th>98</th>\n",
       "      <td>99</td>\n",
       "      <td>30</td>\n",
       "      <td>Houston</td>\n",
       "    </tr>\n",
       "    <tr>\n",
       "      <th>99</th>\n",
       "      <td>100</td>\n",
       "      <td>31</td>\n",
       "      <td>Phoenix</td>\n",
       "    </tr>\n",
       "  </tbody>\n",
       "</table>\n",
       "<p>100 rows × 3 columns</p>\n",
       "</div>"
      ],
      "text/plain": [
       "    CustomerID  Age         City\n",
       "0            1   22     New York\n",
       "1            2   23  Los Angeles\n",
       "2            3   24      Chicago\n",
       "3            4   25      Houston\n",
       "4            5   26      Phoenix\n",
       "..         ...  ...          ...\n",
       "95          96   27     New York\n",
       "96          97   28  Los Angeles\n",
       "97          98   29      Chicago\n",
       "98          99   30      Houston\n",
       "99         100   31      Phoenix\n",
       "\n",
       "[100 rows x 3 columns]"
      ]
     },
     "execution_count": 127,
     "metadata": {},
     "output_type": "execute_result"
    }
   ],
   "source": [
    "#Loading customers dataset\n",
    "df_customers=pd.read_csv('customers.csv')\n",
    "df_customers"
   ]
  },
  {
   "cell_type": "code",
   "execution_count": 128,
   "id": "aea4edc6",
   "metadata": {},
   "outputs": [
    {
     "data": {
      "text/html": [
       "<div>\n",
       "<style scoped>\n",
       "    .dataframe tbody tr th:only-of-type {\n",
       "        vertical-align: middle;\n",
       "    }\n",
       "\n",
       "    .dataframe tbody tr th {\n",
       "        vertical-align: top;\n",
       "    }\n",
       "\n",
       "    .dataframe thead th {\n",
       "        text-align: right;\n",
       "    }\n",
       "</style>\n",
       "<table border=\"1\" class=\"dataframe\">\n",
       "  <thead>\n",
       "    <tr style=\"text-align: right;\">\n",
       "      <th></th>\n",
       "      <th>SaleID</th>\n",
       "      <th>CustomerID</th>\n",
       "      <th>Product</th>\n",
       "      <th>Amount</th>\n",
       "    </tr>\n",
       "  </thead>\n",
       "  <tbody>\n",
       "    <tr>\n",
       "      <th>0</th>\n",
       "      <td>101</td>\n",
       "      <td>1</td>\n",
       "      <td>Laptop</td>\n",
       "      <td>200</td>\n",
       "    </tr>\n",
       "    <tr>\n",
       "      <th>1</th>\n",
       "      <td>102</td>\n",
       "      <td>2</td>\n",
       "      <td>Smartphone</td>\n",
       "      <td>500</td>\n",
       "    </tr>\n",
       "    <tr>\n",
       "      <th>2</th>\n",
       "      <td>103</td>\n",
       "      <td>3</td>\n",
       "      <td>Tablet</td>\n",
       "      <td>800</td>\n",
       "    </tr>\n",
       "    <tr>\n",
       "      <th>3</th>\n",
       "      <td>104</td>\n",
       "      <td>4</td>\n",
       "      <td>Headphones</td>\n",
       "      <td>1100</td>\n",
       "    </tr>\n",
       "    <tr>\n",
       "      <th>4</th>\n",
       "      <td>105</td>\n",
       "      <td>5</td>\n",
       "      <td>Monitor</td>\n",
       "      <td>1400</td>\n",
       "    </tr>\n",
       "    <tr>\n",
       "      <th>...</th>\n",
       "      <td>...</td>\n",
       "      <td>...</td>\n",
       "      <td>...</td>\n",
       "      <td>...</td>\n",
       "    </tr>\n",
       "    <tr>\n",
       "      <th>395</th>\n",
       "      <td>496</td>\n",
       "      <td>96</td>\n",
       "      <td>Laptop</td>\n",
       "      <td>200</td>\n",
       "    </tr>\n",
       "    <tr>\n",
       "      <th>396</th>\n",
       "      <td>497</td>\n",
       "      <td>97</td>\n",
       "      <td>Smartphone</td>\n",
       "      <td>500</td>\n",
       "    </tr>\n",
       "    <tr>\n",
       "      <th>397</th>\n",
       "      <td>498</td>\n",
       "      <td>98</td>\n",
       "      <td>Tablet</td>\n",
       "      <td>800</td>\n",
       "    </tr>\n",
       "    <tr>\n",
       "      <th>398</th>\n",
       "      <td>499</td>\n",
       "      <td>99</td>\n",
       "      <td>Headphones</td>\n",
       "      <td>1100</td>\n",
       "    </tr>\n",
       "    <tr>\n",
       "      <th>399</th>\n",
       "      <td>500</td>\n",
       "      <td>100</td>\n",
       "      <td>Monitor</td>\n",
       "      <td>1400</td>\n",
       "    </tr>\n",
       "  </tbody>\n",
       "</table>\n",
       "<p>400 rows × 4 columns</p>\n",
       "</div>"
      ],
      "text/plain": [
       "     SaleID  CustomerID     Product  Amount\n",
       "0       101           1      Laptop     200\n",
       "1       102           2  Smartphone     500\n",
       "2       103           3      Tablet     800\n",
       "3       104           4  Headphones    1100\n",
       "4       105           5     Monitor    1400\n",
       "..      ...         ...         ...     ...\n",
       "395     496          96      Laptop     200\n",
       "396     497          97  Smartphone     500\n",
       "397     498          98      Tablet     800\n",
       "398     499          99  Headphones    1100\n",
       "399     500         100     Monitor    1400\n",
       "\n",
       "[400 rows x 4 columns]"
      ]
     },
     "execution_count": 128,
     "metadata": {},
     "output_type": "execute_result"
    }
   ],
   "source": [
    "#Loading sales dataset\n",
    "df_sales=pd.read_csv('sales.csv')\n",
    "df_sales\n"
   ]
  },
  {
   "cell_type": "code",
   "execution_count": 129,
   "id": "71bedf6d",
   "metadata": {},
   "outputs": [
    {
     "data": {
      "text/html": [
       "<div>\n",
       "<style scoped>\n",
       "    .dataframe tbody tr th:only-of-type {\n",
       "        vertical-align: middle;\n",
       "    }\n",
       "\n",
       "    .dataframe tbody tr th {\n",
       "        vertical-align: top;\n",
       "    }\n",
       "\n",
       "    .dataframe thead th {\n",
       "        text-align: right;\n",
       "    }\n",
       "</style>\n",
       "<table border=\"1\" class=\"dataframe\">\n",
       "  <thead>\n",
       "    <tr style=\"text-align: right;\">\n",
       "      <th></th>\n",
       "      <th>SaleID</th>\n",
       "      <th>CustomerID</th>\n",
       "      <th>Product</th>\n",
       "      <th>Amount</th>\n",
       "    </tr>\n",
       "  </thead>\n",
       "  <tbody>\n",
       "    <tr>\n",
       "      <th>0</th>\n",
       "      <td>101</td>\n",
       "      <td>1</td>\n",
       "      <td>Laptop</td>\n",
       "      <td>200</td>\n",
       "    </tr>\n",
       "    <tr>\n",
       "      <th>1</th>\n",
       "      <td>102</td>\n",
       "      <td>2</td>\n",
       "      <td>Smartphone</td>\n",
       "      <td>500</td>\n",
       "    </tr>\n",
       "    <tr>\n",
       "      <th>2</th>\n",
       "      <td>103</td>\n",
       "      <td>3</td>\n",
       "      <td>Tablet</td>\n",
       "      <td>800</td>\n",
       "    </tr>\n",
       "    <tr>\n",
       "      <th>3</th>\n",
       "      <td>104</td>\n",
       "      <td>4</td>\n",
       "      <td>Headphones</td>\n",
       "      <td>1100</td>\n",
       "    </tr>\n",
       "    <tr>\n",
       "      <th>4</th>\n",
       "      <td>105</td>\n",
       "      <td>5</td>\n",
       "      <td>Monitor</td>\n",
       "      <td>1400</td>\n",
       "    </tr>\n",
       "  </tbody>\n",
       "</table>\n",
       "</div>"
      ],
      "text/plain": [
       "   SaleID  CustomerID     Product  Amount\n",
       "0     101           1      Laptop     200\n",
       "1     102           2  Smartphone     500\n",
       "2     103           3      Tablet     800\n",
       "3     104           4  Headphones    1100\n",
       "4     105           5     Monitor    1400"
      ]
     },
     "execution_count": 129,
     "metadata": {},
     "output_type": "execute_result"
    }
   ],
   "source": [
    "df_sales.head()     #To display first few rows of 'sales' dataset\n"
   ]
  },
  {
   "cell_type": "code",
   "execution_count": 130,
   "id": "a7dba54b",
   "metadata": {},
   "outputs": [
    {
     "data": {
      "text/plain": [
       "(400, 4)"
      ]
     },
     "execution_count": 130,
     "metadata": {},
     "output_type": "execute_result"
    }
   ],
   "source": [
    "df_sales.shape      #To display no. of rows and no. of columns of 'sales' dataset"
   ]
  },
  {
   "cell_type": "code",
   "execution_count": 131,
   "id": "8c79a418",
   "metadata": {},
   "outputs": [
    {
     "data": {
      "text/html": [
       "<div>\n",
       "<style scoped>\n",
       "    .dataframe tbody tr th:only-of-type {\n",
       "        vertical-align: middle;\n",
       "    }\n",
       "\n",
       "    .dataframe tbody tr th {\n",
       "        vertical-align: top;\n",
       "    }\n",
       "\n",
       "    .dataframe thead th {\n",
       "        text-align: right;\n",
       "    }\n",
       "</style>\n",
       "<table border=\"1\" class=\"dataframe\">\n",
       "  <thead>\n",
       "    <tr style=\"text-align: right;\">\n",
       "      <th></th>\n",
       "      <th>CustomerID</th>\n",
       "      <th>Age</th>\n",
       "      <th>City</th>\n",
       "    </tr>\n",
       "  </thead>\n",
       "  <tbody>\n",
       "    <tr>\n",
       "      <th>0</th>\n",
       "      <td>1</td>\n",
       "      <td>22</td>\n",
       "      <td>New York</td>\n",
       "    </tr>\n",
       "    <tr>\n",
       "      <th>1</th>\n",
       "      <td>2</td>\n",
       "      <td>23</td>\n",
       "      <td>Los Angeles</td>\n",
       "    </tr>\n",
       "    <tr>\n",
       "      <th>2</th>\n",
       "      <td>3</td>\n",
       "      <td>24</td>\n",
       "      <td>Chicago</td>\n",
       "    </tr>\n",
       "    <tr>\n",
       "      <th>3</th>\n",
       "      <td>4</td>\n",
       "      <td>25</td>\n",
       "      <td>Houston</td>\n",
       "    </tr>\n",
       "    <tr>\n",
       "      <th>4</th>\n",
       "      <td>5</td>\n",
       "      <td>26</td>\n",
       "      <td>Phoenix</td>\n",
       "    </tr>\n",
       "  </tbody>\n",
       "</table>\n",
       "</div>"
      ],
      "text/plain": [
       "   CustomerID  Age         City\n",
       "0           1   22     New York\n",
       "1           2   23  Los Angeles\n",
       "2           3   24      Chicago\n",
       "3           4   25      Houston\n",
       "4           5   26      Phoenix"
      ]
     },
     "execution_count": 131,
     "metadata": {},
     "output_type": "execute_result"
    }
   ],
   "source": [
    "df_customers.head()      #To display first few rows of 'customers' dataset"
   ]
  },
  {
   "cell_type": "code",
   "execution_count": 132,
   "id": "851021ef",
   "metadata": {},
   "outputs": [
    {
     "data": {
      "text/plain": [
       "(100, 3)"
      ]
     },
     "execution_count": 132,
     "metadata": {},
     "output_type": "execute_result"
    }
   ],
   "source": [
    "df_customers.shape      #To display no. of rows and no. of columns of 'customers' dataset"
   ]
  },
  {
   "cell_type": "code",
   "execution_count": 133,
   "id": "8d67a4f3",
   "metadata": {},
   "outputs": [
    {
     "data": {
      "text/plain": [
       "np.int64(0)"
      ]
     },
     "execution_count": 133,
     "metadata": {},
     "output_type": "execute_result"
    }
   ],
   "source": [
    "df_customers.CustomerID.isna().sum()    #To check for missing values in dataset 'customers' in column 'CustomerID'"
   ]
  },
  {
   "cell_type": "code",
   "execution_count": 134,
   "id": "d0fb225a",
   "metadata": {},
   "outputs": [
    {
     "data": {
      "text/plain": [
       "np.int64(0)"
      ]
     },
     "execution_count": 134,
     "metadata": {},
     "output_type": "execute_result"
    }
   ],
   "source": [
    "df_customers.Age.isna().sum()      #To check for missing values in dataset 'customers' in column 'Age'"
   ]
  },
  {
   "cell_type": "code",
   "execution_count": 135,
   "id": "f0aa595e",
   "metadata": {},
   "outputs": [
    {
     "data": {
      "text/plain": [
       "np.int64(0)"
      ]
     },
     "execution_count": 135,
     "metadata": {},
     "output_type": "execute_result"
    }
   ],
   "source": [
    "df_customers.City.isna().sum()  #To check for missing values in dataset 'customers' in column 'City'"
   ]
  },
  {
   "cell_type": "code",
   "execution_count": 136,
   "id": "d27dfe38",
   "metadata": {},
   "outputs": [
    {
     "data": {
      "text/plain": [
       "np.int64(0)"
      ]
     },
     "execution_count": 136,
     "metadata": {},
     "output_type": "execute_result"
    }
   ],
   "source": [
    "df_sales.SaleID.isna().sum()    #To check for missing values in dataset 'sales' in column 'SaleID'"
   ]
  },
  {
   "cell_type": "code",
   "execution_count": 137,
   "id": "b5422823",
   "metadata": {},
   "outputs": [
    {
     "data": {
      "text/plain": [
       "np.int64(0)"
      ]
     },
     "execution_count": 137,
     "metadata": {},
     "output_type": "execute_result"
    }
   ],
   "source": [
    "df_sales.CustomerID.isna().sum()    #To check for missing values in dataset 'sales' in column 'CustomerID'"
   ]
  },
  {
   "cell_type": "code",
   "execution_count": 138,
   "id": "3dd53e57",
   "metadata": {},
   "outputs": [
    {
     "data": {
      "text/plain": [
       "np.int64(0)"
      ]
     },
     "execution_count": 138,
     "metadata": {},
     "output_type": "execute_result"
    }
   ],
   "source": [
    "df_sales.Product.isna().sum()   #To check for missing values in dataset 'sales' in column 'Product'"
   ]
  },
  {
   "cell_type": "code",
   "execution_count": 139,
   "id": "30726223",
   "metadata": {},
   "outputs": [
    {
     "data": {
      "text/plain": [
       "np.int64(0)"
      ]
     },
     "execution_count": 139,
     "metadata": {},
     "output_type": "execute_result"
    }
   ],
   "source": [
    "df_sales.Amount.isna().sum()    #To check for missing values in dataset 'sales' in column 'Amount'"
   ]
  },
  {
   "cell_type": "markdown",
   "id": "cd0d4739",
   "metadata": {},
   "source": [
    "<h3>It shows that there is no Null value</h3>"
   ]
  },
  {
   "cell_type": "markdown",
   "id": "1a2057d7",
   "metadata": {},
   "source": [
    "<h1>Task 2</h1>"
   ]
  },
  {
   "cell_type": "code",
   "execution_count": 140,
   "id": "c90f7511",
   "metadata": {},
   "outputs": [],
   "source": [
    "customers_dict=df_customers.to_dict(orient=\"records\")   #Converting customers dataframe into Python dictionary"
   ]
  },
  {
   "cell_type": "code",
   "execution_count": 141,
   "id": "1c481506",
   "metadata": {},
   "outputs": [
    {
     "data": {
      "text/plain": [
       "[{'CustomerID': 1, 'Age': 22, 'City': 'New York'},\n",
       " {'CustomerID': 6, 'Age': 27, 'City': 'New York'},\n",
       " {'CustomerID': 11, 'Age': 32, 'City': 'New York'},\n",
       " {'CustomerID': 16, 'Age': 37, 'City': 'New York'},\n",
       " {'CustomerID': 21, 'Age': 42, 'City': 'New York'},\n",
       " {'CustomerID': 26, 'Age': 47, 'City': 'New York'},\n",
       " {'CustomerID': 31, 'Age': 22, 'City': 'New York'},\n",
       " {'CustomerID': 36, 'Age': 27, 'City': 'New York'},\n",
       " {'CustomerID': 41, 'Age': 32, 'City': 'New York'},\n",
       " {'CustomerID': 46, 'Age': 37, 'City': 'New York'},\n",
       " {'CustomerID': 51, 'Age': 42, 'City': 'New York'},\n",
       " {'CustomerID': 56, 'Age': 47, 'City': 'New York'},\n",
       " {'CustomerID': 61, 'Age': 22, 'City': 'New York'},\n",
       " {'CustomerID': 66, 'Age': 27, 'City': 'New York'},\n",
       " {'CustomerID': 71, 'Age': 32, 'City': 'New York'},\n",
       " {'CustomerID': 76, 'Age': 37, 'City': 'New York'},\n",
       " {'CustomerID': 81, 'Age': 42, 'City': 'New York'},\n",
       " {'CustomerID': 86, 'Age': 47, 'City': 'New York'},\n",
       " {'CustomerID': 91, 'Age': 22, 'City': 'New York'},\n",
       " {'CustomerID': 96, 'Age': 27, 'City': 'New York'}]"
      ]
     },
     "execution_count": 141,
     "metadata": {},
     "output_type": "execute_result"
    }
   ],
   "source": [
    "#Function to filter customers from a specific city using dictionary\n",
    "def filter_customers_by_city_dict(customers,city):\n",
    "    return [customer for customer in customers if customer[\"City\"]==city]\n",
    "\n",
    "#Filter customers from \"New York\"\n",
    "filtered_customers_dict=filter_customers_by_city_dict(customers_dict,\"New York\")\n",
    "filtered_customers_dict"
   ]
  },
  {
   "cell_type": "code",
   "execution_count": 142,
   "id": "4edc48e5",
   "metadata": {},
   "outputs": [
    {
     "data": {
      "text/html": [
       "<div>\n",
       "<style scoped>\n",
       "    .dataframe tbody tr th:only-of-type {\n",
       "        vertical-align: middle;\n",
       "    }\n",
       "\n",
       "    .dataframe tbody tr th {\n",
       "        vertical-align: top;\n",
       "    }\n",
       "\n",
       "    .dataframe thead th {\n",
       "        text-align: right;\n",
       "    }\n",
       "</style>\n",
       "<table border=\"1\" class=\"dataframe\">\n",
       "  <thead>\n",
       "    <tr style=\"text-align: right;\">\n",
       "      <th></th>\n",
       "      <th>CustomerID</th>\n",
       "      <th>Age</th>\n",
       "      <th>City</th>\n",
       "    </tr>\n",
       "  </thead>\n",
       "  <tbody>\n",
       "    <tr>\n",
       "      <th>0</th>\n",
       "      <td>1</td>\n",
       "      <td>22</td>\n",
       "      <td>New York</td>\n",
       "    </tr>\n",
       "    <tr>\n",
       "      <th>5</th>\n",
       "      <td>6</td>\n",
       "      <td>27</td>\n",
       "      <td>New York</td>\n",
       "    </tr>\n",
       "    <tr>\n",
       "      <th>10</th>\n",
       "      <td>11</td>\n",
       "      <td>32</td>\n",
       "      <td>New York</td>\n",
       "    </tr>\n",
       "    <tr>\n",
       "      <th>15</th>\n",
       "      <td>16</td>\n",
       "      <td>37</td>\n",
       "      <td>New York</td>\n",
       "    </tr>\n",
       "    <tr>\n",
       "      <th>20</th>\n",
       "      <td>21</td>\n",
       "      <td>42</td>\n",
       "      <td>New York</td>\n",
       "    </tr>\n",
       "    <tr>\n",
       "      <th>25</th>\n",
       "      <td>26</td>\n",
       "      <td>47</td>\n",
       "      <td>New York</td>\n",
       "    </tr>\n",
       "    <tr>\n",
       "      <th>30</th>\n",
       "      <td>31</td>\n",
       "      <td>22</td>\n",
       "      <td>New York</td>\n",
       "    </tr>\n",
       "    <tr>\n",
       "      <th>35</th>\n",
       "      <td>36</td>\n",
       "      <td>27</td>\n",
       "      <td>New York</td>\n",
       "    </tr>\n",
       "    <tr>\n",
       "      <th>40</th>\n",
       "      <td>41</td>\n",
       "      <td>32</td>\n",
       "      <td>New York</td>\n",
       "    </tr>\n",
       "    <tr>\n",
       "      <th>45</th>\n",
       "      <td>46</td>\n",
       "      <td>37</td>\n",
       "      <td>New York</td>\n",
       "    </tr>\n",
       "    <tr>\n",
       "      <th>50</th>\n",
       "      <td>51</td>\n",
       "      <td>42</td>\n",
       "      <td>New York</td>\n",
       "    </tr>\n",
       "    <tr>\n",
       "      <th>55</th>\n",
       "      <td>56</td>\n",
       "      <td>47</td>\n",
       "      <td>New York</td>\n",
       "    </tr>\n",
       "    <tr>\n",
       "      <th>60</th>\n",
       "      <td>61</td>\n",
       "      <td>22</td>\n",
       "      <td>New York</td>\n",
       "    </tr>\n",
       "    <tr>\n",
       "      <th>65</th>\n",
       "      <td>66</td>\n",
       "      <td>27</td>\n",
       "      <td>New York</td>\n",
       "    </tr>\n",
       "    <tr>\n",
       "      <th>70</th>\n",
       "      <td>71</td>\n",
       "      <td>32</td>\n",
       "      <td>New York</td>\n",
       "    </tr>\n",
       "    <tr>\n",
       "      <th>75</th>\n",
       "      <td>76</td>\n",
       "      <td>37</td>\n",
       "      <td>New York</td>\n",
       "    </tr>\n",
       "    <tr>\n",
       "      <th>80</th>\n",
       "      <td>81</td>\n",
       "      <td>42</td>\n",
       "      <td>New York</td>\n",
       "    </tr>\n",
       "    <tr>\n",
       "      <th>85</th>\n",
       "      <td>86</td>\n",
       "      <td>47</td>\n",
       "      <td>New York</td>\n",
       "    </tr>\n",
       "    <tr>\n",
       "      <th>90</th>\n",
       "      <td>91</td>\n",
       "      <td>22</td>\n",
       "      <td>New York</td>\n",
       "    </tr>\n",
       "    <tr>\n",
       "      <th>95</th>\n",
       "      <td>96</td>\n",
       "      <td>27</td>\n",
       "      <td>New York</td>\n",
       "    </tr>\n",
       "  </tbody>\n",
       "</table>\n",
       "</div>"
      ],
      "text/plain": [
       "    CustomerID  Age      City\n",
       "0            1   22  New York\n",
       "5            6   27  New York\n",
       "10          11   32  New York\n",
       "15          16   37  New York\n",
       "20          21   42  New York\n",
       "25          26   47  New York\n",
       "30          31   22  New York\n",
       "35          36   27  New York\n",
       "40          41   32  New York\n",
       "45          46   37  New York\n",
       "50          51   42  New York\n",
       "55          56   47  New York\n",
       "60          61   22  New York\n",
       "65          66   27  New York\n",
       "70          71   32  New York\n",
       "75          76   37  New York\n",
       "80          81   42  New York\n",
       "85          86   47  New York\n",
       "90          91   22  New York\n",
       "95          96   27  New York"
      ]
     },
     "execution_count": 142,
     "metadata": {},
     "output_type": "execute_result"
    }
   ],
   "source": [
    "#To filter customers from a specific city using DataFrame\n",
    "filtered_customers_df=df_customers[df_customers[\"City\"]==\"New York\"]\n",
    "filtered_customers_df"
   ]
  },
  {
   "cell_type": "code",
   "execution_count": 143,
   "id": "ee2e7a5b",
   "metadata": {},
   "outputs": [
    {
     "name": "stdout",
     "output_type": "stream",
     "text": [
      "Dictionary filtering time: 0.008517300710082054 seconds\n",
      "DataFrame filtering time: 0.27120389975607395 seconds\n"
     ]
    }
   ],
   "source": [
    "#Comparing efficiency from both approaches\n",
    "import timeit\n",
    "# Measuring time in case of dictionary\n",
    "dict_time=timeit.timeit(\n",
    "    lambda:filter_customers_by_city_dict(customers_dict,\"New York\"),\n",
    "    number=1000,)\n",
    "# Measure time in case of DataFrame\n",
    "df_time=timeit.timeit(\n",
    "    lambda:df_customers[df_customers[\"City\"] == \"New York\"],\n",
    "    number=1000,)\n",
    "\n",
    "print(f\"Dictionary filtering time: {dict_time} seconds\")\n",
    "print(f\"DataFrame filtering time: {df_time} seconds\")"
   ]
  },
  {
   "cell_type": "markdown",
   "id": "4b266f30",
   "metadata": {},
   "source": [
    "<h1>Task 3</h1>"
   ]
  },
  {
   "cell_type": "code",
   "execution_count": 144,
   "id": "d58f760c",
   "metadata": {},
   "outputs": [
    {
     "data": {
      "text/html": [
       "<div>\n",
       "<style scoped>\n",
       "    .dataframe tbody tr th:only-of-type {\n",
       "        vertical-align: middle;\n",
       "    }\n",
       "\n",
       "    .dataframe tbody tr th {\n",
       "        vertical-align: top;\n",
       "    }\n",
       "\n",
       "    .dataframe thead th {\n",
       "        text-align: right;\n",
       "    }\n",
       "</style>\n",
       "<table border=\"1\" class=\"dataframe\">\n",
       "  <thead>\n",
       "    <tr style=\"text-align: right;\">\n",
       "      <th></th>\n",
       "      <th>CustomerID</th>\n",
       "      <th>Age</th>\n",
       "      <th>City</th>\n",
       "    </tr>\n",
       "  </thead>\n",
       "  <tbody>\n",
       "  </tbody>\n",
       "</table>\n",
       "</div>"
      ],
      "text/plain": [
       "Empty DataFrame\n",
       "Columns: [CustomerID, Age, City]\n",
       "Index: []"
      ]
     },
     "execution_count": 144,
     "metadata": {},
     "output_type": "execute_result"
    }
   ],
   "source": [
    "#Identifying duplicate rows\n",
    "duplicates=df_customers[df_customers.duplicated()]\n",
    "duplicates"
   ]
  },
  {
   "cell_type": "markdown",
   "id": "4960908a",
   "metadata": {},
   "source": [
    "<h4>Since there are no duplicates, so there is no need to remove them.</h4>"
   ]
  },
  {
   "cell_type": "markdown",
   "id": "f5fd95cd",
   "metadata": {},
   "source": []
  },
  {
   "cell_type": "markdown",
   "id": "d74362aa",
   "metadata": {},
   "source": [
    "<h1>Task 4</h1>"
   ]
  },
  {
   "cell_type": "code",
   "execution_count": 145,
   "id": "1c2aaab8",
   "metadata": {},
   "outputs": [
    {
     "data": {
      "text/plain": [
       "0       180.0\n",
       "1       450.0\n",
       "2       720.0\n",
       "3       990.0\n",
       "4      1260.0\n",
       "        ...  \n",
       "395     180.0\n",
       "396     450.0\n",
       "397     720.0\n",
       "398     990.0\n",
       "399    1260.0\n",
       "Name: Discounted_Amount, Length: 400, dtype: float64"
      ]
     },
     "execution_count": 145,
     "metadata": {},
     "output_type": "execute_result"
    }
   ],
   "source": [
    "# Create a new column with 10% discount applied\n",
    "df_sales[\"Discounted_Amount\"]=df_sales[\"Amount\"]*0.9\n",
    "df_sales[\"Discounted_Amount\"]"
   ]
  },
  {
   "cell_type": "code",
   "execution_count": 146,
   "id": "bf6a5eef",
   "metadata": {},
   "outputs": [
    {
     "data": {
      "text/html": [
       "<div>\n",
       "<style scoped>\n",
       "    .dataframe tbody tr th:only-of-type {\n",
       "        vertical-align: middle;\n",
       "    }\n",
       "\n",
       "    .dataframe tbody tr th {\n",
       "        vertical-align: top;\n",
       "    }\n",
       "\n",
       "    .dataframe thead th {\n",
       "        text-align: right;\n",
       "    }\n",
       "</style>\n",
       "<table border=\"1\" class=\"dataframe\">\n",
       "  <thead>\n",
       "    <tr style=\"text-align: right;\">\n",
       "      <th></th>\n",
       "      <th>Product</th>\n",
       "      <th>Total_Sales</th>\n",
       "    </tr>\n",
       "  </thead>\n",
       "  <tbody>\n",
       "    <tr>\n",
       "      <th>0</th>\n",
       "      <td>Headphones</td>\n",
       "      <td>79200.0</td>\n",
       "    </tr>\n",
       "    <tr>\n",
       "      <th>1</th>\n",
       "      <td>Laptop</td>\n",
       "      <td>14400.0</td>\n",
       "    </tr>\n",
       "    <tr>\n",
       "      <th>2</th>\n",
       "      <td>Monitor</td>\n",
       "      <td>100800.0</td>\n",
       "    </tr>\n",
       "    <tr>\n",
       "      <th>3</th>\n",
       "      <td>Smartphone</td>\n",
       "      <td>36000.0</td>\n",
       "    </tr>\n",
       "    <tr>\n",
       "      <th>4</th>\n",
       "      <td>Tablet</td>\n",
       "      <td>57600.0</td>\n",
       "    </tr>\n",
       "  </tbody>\n",
       "</table>\n",
       "</div>"
      ],
      "text/plain": [
       "      Product  Total_Sales\n",
       "0  Headphones      79200.0\n",
       "1      Laptop      14400.0\n",
       "2     Monitor     100800.0\n",
       "3  Smartphone      36000.0\n",
       "4      Tablet      57600.0"
      ]
     },
     "execution_count": 146,
     "metadata": {},
     "output_type": "execute_result"
    }
   ],
   "source": [
    "# Group by Product and calculate total sales\n",
    "total_sales_by_product=df_sales.groupby(\"Product\")[\"Discounted_Amount\"].sum().reset_index()\n",
    "# Renaming the column\n",
    "total_sales_by_product.rename(columns={\"Discounted_Amount\": \"Total_Sales\"}, inplace=True)\n",
    "total_sales_by_product"
   ]
  },
  {
   "cell_type": "code",
   "execution_count": 147,
   "id": "67924fd7",
   "metadata": {},
   "outputs": [
    {
     "name": "stdout",
     "output_type": "stream",
     "text": [
      "Total Sales by Product (after discount):\n",
      "      Product  Total_Sales\n",
      "2     Monitor     100800.0\n",
      "0  Headphones      79200.0\n",
      "4      Tablet      57600.0\n",
      "3  Smartphone      36000.0\n",
      "1      Laptop      14400.0\n"
     ]
    }
   ],
   "source": [
    "#Presenting in well structured format\n",
    "total_sales_by_product=total_sales_by_product.sort_values(by=\"Total_Sales\",ascending=False)\n",
    "print(\"Total Sales by Product (after discount):\")\n",
    "print(total_sales_by_product)\n"
   ]
  },
  {
   "cell_type": "markdown",
   "id": "75cb0ba1",
   "metadata": {},
   "source": [
    "<h1>Task 5</h1>"
   ]
  },
  {
   "cell_type": "code",
   "execution_count": 148,
   "id": "d8594ba2",
   "metadata": {},
   "outputs": [
    {
     "data": {
      "text/html": [
       "<div>\n",
       "<style scoped>\n",
       "    .dataframe tbody tr th:only-of-type {\n",
       "        vertical-align: middle;\n",
       "    }\n",
       "\n",
       "    .dataframe tbody tr th {\n",
       "        vertical-align: top;\n",
       "    }\n",
       "\n",
       "    .dataframe thead th {\n",
       "        text-align: right;\n",
       "    }\n",
       "</style>\n",
       "<table border=\"1\" class=\"dataframe\">\n",
       "  <thead>\n",
       "    <tr style=\"text-align: right;\">\n",
       "      <th></th>\n",
       "      <th>CustomerID</th>\n",
       "      <th>Age</th>\n",
       "      <th>City</th>\n",
       "    </tr>\n",
       "  </thead>\n",
       "  <tbody>\n",
       "    <tr>\n",
       "      <th>3</th>\n",
       "      <td>4</td>\n",
       "      <td>25</td>\n",
       "      <td>Houston</td>\n",
       "    </tr>\n",
       "    <tr>\n",
       "      <th>4</th>\n",
       "      <td>5</td>\n",
       "      <td>26</td>\n",
       "      <td>Phoenix</td>\n",
       "    </tr>\n",
       "    <tr>\n",
       "      <th>5</th>\n",
       "      <td>6</td>\n",
       "      <td>27</td>\n",
       "      <td>New York</td>\n",
       "    </tr>\n",
       "    <tr>\n",
       "      <th>6</th>\n",
       "      <td>7</td>\n",
       "      <td>28</td>\n",
       "      <td>Los Angeles</td>\n",
       "    </tr>\n",
       "    <tr>\n",
       "      <th>7</th>\n",
       "      <td>8</td>\n",
       "      <td>29</td>\n",
       "      <td>Chicago</td>\n",
       "    </tr>\n",
       "    <tr>\n",
       "      <th>8</th>\n",
       "      <td>9</td>\n",
       "      <td>30</td>\n",
       "      <td>Houston</td>\n",
       "    </tr>\n",
       "    <tr>\n",
       "      <th>9</th>\n",
       "      <td>10</td>\n",
       "      <td>31</td>\n",
       "      <td>Phoenix</td>\n",
       "    </tr>\n",
       "    <tr>\n",
       "      <th>10</th>\n",
       "      <td>11</td>\n",
       "      <td>32</td>\n",
       "      <td>New York</td>\n",
       "    </tr>\n",
       "    <tr>\n",
       "      <th>11</th>\n",
       "      <td>12</td>\n",
       "      <td>33</td>\n",
       "      <td>Los Angeles</td>\n",
       "    </tr>\n",
       "    <tr>\n",
       "      <th>12</th>\n",
       "      <td>13</td>\n",
       "      <td>34</td>\n",
       "      <td>Chicago</td>\n",
       "    </tr>\n",
       "    <tr>\n",
       "      <th>13</th>\n",
       "      <td>14</td>\n",
       "      <td>35</td>\n",
       "      <td>Houston</td>\n",
       "    </tr>\n",
       "    <tr>\n",
       "      <th>33</th>\n",
       "      <td>34</td>\n",
       "      <td>25</td>\n",
       "      <td>Houston</td>\n",
       "    </tr>\n",
       "    <tr>\n",
       "      <th>34</th>\n",
       "      <td>35</td>\n",
       "      <td>26</td>\n",
       "      <td>Phoenix</td>\n",
       "    </tr>\n",
       "    <tr>\n",
       "      <th>35</th>\n",
       "      <td>36</td>\n",
       "      <td>27</td>\n",
       "      <td>New York</td>\n",
       "    </tr>\n",
       "    <tr>\n",
       "      <th>36</th>\n",
       "      <td>37</td>\n",
       "      <td>28</td>\n",
       "      <td>Los Angeles</td>\n",
       "    </tr>\n",
       "    <tr>\n",
       "      <th>37</th>\n",
       "      <td>38</td>\n",
       "      <td>29</td>\n",
       "      <td>Chicago</td>\n",
       "    </tr>\n",
       "    <tr>\n",
       "      <th>38</th>\n",
       "      <td>39</td>\n",
       "      <td>30</td>\n",
       "      <td>Houston</td>\n",
       "    </tr>\n",
       "    <tr>\n",
       "      <th>39</th>\n",
       "      <td>40</td>\n",
       "      <td>31</td>\n",
       "      <td>Phoenix</td>\n",
       "    </tr>\n",
       "    <tr>\n",
       "      <th>40</th>\n",
       "      <td>41</td>\n",
       "      <td>32</td>\n",
       "      <td>New York</td>\n",
       "    </tr>\n",
       "    <tr>\n",
       "      <th>41</th>\n",
       "      <td>42</td>\n",
       "      <td>33</td>\n",
       "      <td>Los Angeles</td>\n",
       "    </tr>\n",
       "    <tr>\n",
       "      <th>42</th>\n",
       "      <td>43</td>\n",
       "      <td>34</td>\n",
       "      <td>Chicago</td>\n",
       "    </tr>\n",
       "    <tr>\n",
       "      <th>43</th>\n",
       "      <td>44</td>\n",
       "      <td>35</td>\n",
       "      <td>Houston</td>\n",
       "    </tr>\n",
       "    <tr>\n",
       "      <th>63</th>\n",
       "      <td>64</td>\n",
       "      <td>25</td>\n",
       "      <td>Houston</td>\n",
       "    </tr>\n",
       "    <tr>\n",
       "      <th>64</th>\n",
       "      <td>65</td>\n",
       "      <td>26</td>\n",
       "      <td>Phoenix</td>\n",
       "    </tr>\n",
       "    <tr>\n",
       "      <th>65</th>\n",
       "      <td>66</td>\n",
       "      <td>27</td>\n",
       "      <td>New York</td>\n",
       "    </tr>\n",
       "    <tr>\n",
       "      <th>66</th>\n",
       "      <td>67</td>\n",
       "      <td>28</td>\n",
       "      <td>Los Angeles</td>\n",
       "    </tr>\n",
       "    <tr>\n",
       "      <th>67</th>\n",
       "      <td>68</td>\n",
       "      <td>29</td>\n",
       "      <td>Chicago</td>\n",
       "    </tr>\n",
       "    <tr>\n",
       "      <th>68</th>\n",
       "      <td>69</td>\n",
       "      <td>30</td>\n",
       "      <td>Houston</td>\n",
       "    </tr>\n",
       "    <tr>\n",
       "      <th>69</th>\n",
       "      <td>70</td>\n",
       "      <td>31</td>\n",
       "      <td>Phoenix</td>\n",
       "    </tr>\n",
       "    <tr>\n",
       "      <th>70</th>\n",
       "      <td>71</td>\n",
       "      <td>32</td>\n",
       "      <td>New York</td>\n",
       "    </tr>\n",
       "    <tr>\n",
       "      <th>71</th>\n",
       "      <td>72</td>\n",
       "      <td>33</td>\n",
       "      <td>Los Angeles</td>\n",
       "    </tr>\n",
       "    <tr>\n",
       "      <th>72</th>\n",
       "      <td>73</td>\n",
       "      <td>34</td>\n",
       "      <td>Chicago</td>\n",
       "    </tr>\n",
       "    <tr>\n",
       "      <th>73</th>\n",
       "      <td>74</td>\n",
       "      <td>35</td>\n",
       "      <td>Houston</td>\n",
       "    </tr>\n",
       "    <tr>\n",
       "      <th>93</th>\n",
       "      <td>94</td>\n",
       "      <td>25</td>\n",
       "      <td>Houston</td>\n",
       "    </tr>\n",
       "    <tr>\n",
       "      <th>94</th>\n",
       "      <td>95</td>\n",
       "      <td>26</td>\n",
       "      <td>Phoenix</td>\n",
       "    </tr>\n",
       "    <tr>\n",
       "      <th>95</th>\n",
       "      <td>96</td>\n",
       "      <td>27</td>\n",
       "      <td>New York</td>\n",
       "    </tr>\n",
       "    <tr>\n",
       "      <th>96</th>\n",
       "      <td>97</td>\n",
       "      <td>28</td>\n",
       "      <td>Los Angeles</td>\n",
       "    </tr>\n",
       "    <tr>\n",
       "      <th>97</th>\n",
       "      <td>98</td>\n",
       "      <td>29</td>\n",
       "      <td>Chicago</td>\n",
       "    </tr>\n",
       "    <tr>\n",
       "      <th>98</th>\n",
       "      <td>99</td>\n",
       "      <td>30</td>\n",
       "      <td>Houston</td>\n",
       "    </tr>\n",
       "    <tr>\n",
       "      <th>99</th>\n",
       "      <td>100</td>\n",
       "      <td>31</td>\n",
       "      <td>Phoenix</td>\n",
       "    </tr>\n",
       "  </tbody>\n",
       "</table>\n",
       "</div>"
      ],
      "text/plain": [
       "    CustomerID  Age         City\n",
       "3            4   25      Houston\n",
       "4            5   26      Phoenix\n",
       "5            6   27     New York\n",
       "6            7   28  Los Angeles\n",
       "7            8   29      Chicago\n",
       "8            9   30      Houston\n",
       "9           10   31      Phoenix\n",
       "10          11   32     New York\n",
       "11          12   33  Los Angeles\n",
       "12          13   34      Chicago\n",
       "13          14   35      Houston\n",
       "33          34   25      Houston\n",
       "34          35   26      Phoenix\n",
       "35          36   27     New York\n",
       "36          37   28  Los Angeles\n",
       "37          38   29      Chicago\n",
       "38          39   30      Houston\n",
       "39          40   31      Phoenix\n",
       "40          41   32     New York\n",
       "41          42   33  Los Angeles\n",
       "42          43   34      Chicago\n",
       "43          44   35      Houston\n",
       "63          64   25      Houston\n",
       "64          65   26      Phoenix\n",
       "65          66   27     New York\n",
       "66          67   28  Los Angeles\n",
       "67          68   29      Chicago\n",
       "68          69   30      Houston\n",
       "69          70   31      Phoenix\n",
       "70          71   32     New York\n",
       "71          72   33  Los Angeles\n",
       "72          73   34      Chicago\n",
       "73          74   35      Houston\n",
       "93          94   25      Houston\n",
       "94          95   26      Phoenix\n",
       "95          96   27     New York\n",
       "96          97   28  Los Angeles\n",
       "97          98   29      Chicago\n",
       "98          99   30      Houston\n",
       "99         100   31      Phoenix"
      ]
     },
     "execution_count": 148,
     "metadata": {},
     "output_type": "execute_result"
    }
   ],
   "source": [
    "#Filtering the data in the customers.csv file to retain only those customers whose age falls in the range 25 to 35.\n",
    "filtered_data=df_customers[(df_customers[\"Age\"] >= 25) & (df_customers[\"Age\"] <= 35)]\n",
    "filtered_data\n"
   ]
  },
  {
   "cell_type": "code",
   "execution_count": 149,
   "id": "b1f6903c",
   "metadata": {},
   "outputs": [
    {
     "data": {
      "text/html": [
       "<div>\n",
       "<style scoped>\n",
       "    .dataframe tbody tr th:only-of-type {\n",
       "        vertical-align: middle;\n",
       "    }\n",
       "\n",
       "    .dataframe tbody tr th {\n",
       "        vertical-align: top;\n",
       "    }\n",
       "\n",
       "    .dataframe thead th {\n",
       "        text-align: right;\n",
       "    }\n",
       "</style>\n",
       "<table border=\"1\" class=\"dataframe\">\n",
       "  <thead>\n",
       "    <tr style=\"text-align: right;\">\n",
       "      <th></th>\n",
       "      <th>City</th>\n",
       "      <th>Customers</th>\n",
       "    </tr>\n",
       "  </thead>\n",
       "  <tbody>\n",
       "    <tr>\n",
       "      <th>0</th>\n",
       "      <td>Chicago</td>\n",
       "      <td>7</td>\n",
       "    </tr>\n",
       "    <tr>\n",
       "      <th>1</th>\n",
       "      <td>Houston</td>\n",
       "      <td>11</td>\n",
       "    </tr>\n",
       "    <tr>\n",
       "      <th>2</th>\n",
       "      <td>Los Angeles</td>\n",
       "      <td>7</td>\n",
       "    </tr>\n",
       "    <tr>\n",
       "      <th>3</th>\n",
       "      <td>New York</td>\n",
       "      <td>7</td>\n",
       "    </tr>\n",
       "    <tr>\n",
       "      <th>4</th>\n",
       "      <td>Phoenix</td>\n",
       "      <td>8</td>\n",
       "    </tr>\n",
       "  </tbody>\n",
       "</table>\n",
       "</div>"
      ],
      "text/plain": [
       "          City  Customers\n",
       "0      Chicago          7\n",
       "1      Houston         11\n",
       "2  Los Angeles          7\n",
       "3     New York          7\n",
       "4      Phoenix          8"
      ]
     },
     "execution_count": 149,
     "metadata": {},
     "output_type": "execute_result"
    }
   ],
   "source": [
    "#Counting the customers who belong to each city within the age 25 to 35\n",
    "filtered_data1=filtered_data.groupby(\"City\").size().reset_index(name=\"Customers\")\n",
    "filtered_data1"
   ]
  },
  {
   "cell_type": "markdown",
   "id": "985e7213",
   "metadata": {},
   "source": [
    "<h1>Task 6</h1>"
   ]
  },
  {
   "cell_type": "code",
   "execution_count": 150,
   "id": "9e02dea5",
   "metadata": {},
   "outputs": [
    {
     "data": {
      "text/html": [
       "<div>\n",
       "<style scoped>\n",
       "    .dataframe tbody tr th:only-of-type {\n",
       "        vertical-align: middle;\n",
       "    }\n",
       "\n",
       "    .dataframe tbody tr th {\n",
       "        vertical-align: top;\n",
       "    }\n",
       "\n",
       "    .dataframe thead th {\n",
       "        text-align: right;\n",
       "    }\n",
       "</style>\n",
       "<table border=\"1\" class=\"dataframe\">\n",
       "  <thead>\n",
       "    <tr style=\"text-align: right;\">\n",
       "      <th></th>\n",
       "      <th>CustomerID</th>\n",
       "      <th>Age</th>\n",
       "      <th>City</th>\n",
       "      <th>SaleID</th>\n",
       "      <th>Product</th>\n",
       "      <th>Amount</th>\n",
       "      <th>Discounted_Amount</th>\n",
       "    </tr>\n",
       "  </thead>\n",
       "  <tbody>\n",
       "    <tr>\n",
       "      <th>0</th>\n",
       "      <td>1</td>\n",
       "      <td>22</td>\n",
       "      <td>New York</td>\n",
       "      <td>101</td>\n",
       "      <td>Laptop</td>\n",
       "      <td>200</td>\n",
       "      <td>180.0</td>\n",
       "    </tr>\n",
       "    <tr>\n",
       "      <th>1</th>\n",
       "      <td>1</td>\n",
       "      <td>22</td>\n",
       "      <td>New York</td>\n",
       "      <td>201</td>\n",
       "      <td>Laptop</td>\n",
       "      <td>200</td>\n",
       "      <td>180.0</td>\n",
       "    </tr>\n",
       "    <tr>\n",
       "      <th>2</th>\n",
       "      <td>1</td>\n",
       "      <td>22</td>\n",
       "      <td>New York</td>\n",
       "      <td>301</td>\n",
       "      <td>Laptop</td>\n",
       "      <td>200</td>\n",
       "      <td>180.0</td>\n",
       "    </tr>\n",
       "    <tr>\n",
       "      <th>3</th>\n",
       "      <td>1</td>\n",
       "      <td>22</td>\n",
       "      <td>New York</td>\n",
       "      <td>401</td>\n",
       "      <td>Laptop</td>\n",
       "      <td>200</td>\n",
       "      <td>180.0</td>\n",
       "    </tr>\n",
       "    <tr>\n",
       "      <th>4</th>\n",
       "      <td>2</td>\n",
       "      <td>23</td>\n",
       "      <td>Los Angeles</td>\n",
       "      <td>102</td>\n",
       "      <td>Smartphone</td>\n",
       "      <td>500</td>\n",
       "      <td>450.0</td>\n",
       "    </tr>\n",
       "    <tr>\n",
       "      <th>...</th>\n",
       "      <td>...</td>\n",
       "      <td>...</td>\n",
       "      <td>...</td>\n",
       "      <td>...</td>\n",
       "      <td>...</td>\n",
       "      <td>...</td>\n",
       "      <td>...</td>\n",
       "    </tr>\n",
       "    <tr>\n",
       "      <th>395</th>\n",
       "      <td>99</td>\n",
       "      <td>30</td>\n",
       "      <td>Houston</td>\n",
       "      <td>499</td>\n",
       "      <td>Headphones</td>\n",
       "      <td>1100</td>\n",
       "      <td>990.0</td>\n",
       "    </tr>\n",
       "    <tr>\n",
       "      <th>396</th>\n",
       "      <td>100</td>\n",
       "      <td>31</td>\n",
       "      <td>Phoenix</td>\n",
       "      <td>200</td>\n",
       "      <td>Monitor</td>\n",
       "      <td>1400</td>\n",
       "      <td>1260.0</td>\n",
       "    </tr>\n",
       "    <tr>\n",
       "      <th>397</th>\n",
       "      <td>100</td>\n",
       "      <td>31</td>\n",
       "      <td>Phoenix</td>\n",
       "      <td>300</td>\n",
       "      <td>Monitor</td>\n",
       "      <td>1400</td>\n",
       "      <td>1260.0</td>\n",
       "    </tr>\n",
       "    <tr>\n",
       "      <th>398</th>\n",
       "      <td>100</td>\n",
       "      <td>31</td>\n",
       "      <td>Phoenix</td>\n",
       "      <td>400</td>\n",
       "      <td>Monitor</td>\n",
       "      <td>1400</td>\n",
       "      <td>1260.0</td>\n",
       "    </tr>\n",
       "    <tr>\n",
       "      <th>399</th>\n",
       "      <td>100</td>\n",
       "      <td>31</td>\n",
       "      <td>Phoenix</td>\n",
       "      <td>500</td>\n",
       "      <td>Monitor</td>\n",
       "      <td>1400</td>\n",
       "      <td>1260.0</td>\n",
       "    </tr>\n",
       "  </tbody>\n",
       "</table>\n",
       "<p>400 rows × 7 columns</p>\n",
       "</div>"
      ],
      "text/plain": [
       "     CustomerID  Age         City  SaleID     Product  Amount  \\\n",
       "0             1   22     New York     101      Laptop     200   \n",
       "1             1   22     New York     201      Laptop     200   \n",
       "2             1   22     New York     301      Laptop     200   \n",
       "3             1   22     New York     401      Laptop     200   \n",
       "4             2   23  Los Angeles     102  Smartphone     500   \n",
       "..          ...  ...          ...     ...         ...     ...   \n",
       "395          99   30      Houston     499  Headphones    1100   \n",
       "396         100   31      Phoenix     200     Monitor    1400   \n",
       "397         100   31      Phoenix     300     Monitor    1400   \n",
       "398         100   31      Phoenix     400     Monitor    1400   \n",
       "399         100   31      Phoenix     500     Monitor    1400   \n",
       "\n",
       "     Discounted_Amount  \n",
       "0                180.0  \n",
       "1                180.0  \n",
       "2                180.0  \n",
       "3                180.0  \n",
       "4                450.0  \n",
       "..                 ...  \n",
       "395              990.0  \n",
       "396             1260.0  \n",
       "397             1260.0  \n",
       "398             1260.0  \n",
       "399             1260.0  \n",
       "\n",
       "[400 rows x 7 columns]"
      ]
     },
     "execution_count": 150,
     "metadata": {},
     "output_type": "execute_result"
    }
   ],
   "source": [
    "merged_dataset=pd.merge(df_customers, df_sales, on=\"CustomerID\", how=\"outer\")\n",
    "merged_dataset\n"
   ]
  },
  {
   "cell_type": "code",
   "execution_count": 151,
   "id": "c989055d",
   "metadata": {},
   "outputs": [
    {
     "name": "stdout",
     "output_type": "stream",
     "text": [
      "City with the highest total sales: \n",
      "City            Phoenix\n",
      "Total_Sales    100800.0\n",
      "Name: 4, dtype: object\n"
     ]
    }
   ],
   "source": [
    "#Group by City and calculate total sales\n",
    "total_sales_by_city=merged_dataset.groupby(\"City\")[\"Discounted_Amount\"].sum().reset_index()\n",
    "#Renaming the column\n",
    "total_sales_by_city.rename(columns={\"Discounted_Amount\": \"Total_Sales\"}, inplace=True)\n",
    "#Sorting the data by total sales in descending order\n",
    "sales_by_city_sorted=total_sales_by_city.sort_values(by=\"Total_Sales\", ascending=False)\n",
    "#First row will have the highest sales\n",
    "highest_sales_city=sales_by_city_sorted.iloc[0]\n",
    "#Displaying the city with the highest total sales\n",
    "print(\"City with the highest total sales: \")\n",
    "print(highest_sales_city)"
   ]
  },
  {
   "cell_type": "code",
   "execution_count": 152,
   "id": "cba436db",
   "metadata": {},
   "outputs": [
    {
     "name": "stdout",
     "output_type": "stream",
     "text": [
      "Product with most units sold: \n",
      "Product Units    Tablet\n",
      "count                80\n",
      "Name: 4, dtype: object\n"
     ]
    }
   ],
   "source": [
    "#Group by Product and calculate its units sold\n",
    "total_units_of_product=merged_dataset.groupby(\"Product\")[\"Product\"].value_counts().reset_index()\n",
    "#Renaming the column\n",
    "total_units_of_product.rename(columns={\"Product\": \"Product Units\"}, inplace=True)\n",
    "#Sorting the data by Product Units in descending order\n",
    "products_by_units_sorted=total_units_of_product.sort_values(by=\"Product Units\", ascending=False)\n",
    "#First row will have the highest sales\n",
    "most_sold_product=products_by_units_sorted.iloc[0]\n",
    "#Displaying the city with the highest total sales\n",
    "print(\"Product with most units sold: \")\n",
    "print(most_sold_product)"
   ]
  },
  {
   "cell_type": "markdown",
   "id": "03b3198a",
   "metadata": {},
   "source": [
    "<h1>Task 7</h1>"
   ]
  },
  {
   "cell_type": "code",
   "execution_count": 153,
   "id": "28833a5d",
   "metadata": {},
   "outputs": [
    {
     "data": {
      "text/plain": [
       "array(['New York', 'Los Angeles', 'Chicago', 'Houston', 'Phoenix'],\n",
       "      dtype=object)"
      ]
     },
     "execution_count": 153,
     "metadata": {},
     "output_type": "execute_result"
    }
   ],
   "source": [
    "#Displaying unique values in column 'City'.\n",
    "unique_city_values=merged_dataset['City'].unique()\n",
    "unique_city_values"
   ]
  },
  {
   "cell_type": "code",
   "execution_count": 154,
   "id": "b8af55dc",
   "metadata": {},
   "outputs": [
    {
     "data": {
      "text/plain": [
       "array(['Laptop', 'Smartphone', 'Tablet', 'Headphones', 'Monitor'],\n",
       "      dtype=object)"
      ]
     },
     "execution_count": 154,
     "metadata": {},
     "output_type": "execute_result"
    }
   ],
   "source": [
    "#Displaying unique values in column 'Product'.\n",
    "unique_product_values=merged_dataset['Product'].unique()\n",
    "unique_product_values"
   ]
  },
  {
   "cell_type": "code",
   "execution_count": 155,
   "id": "b4aff960",
   "metadata": {},
   "outputs": [
    {
     "name": "stdout",
     "output_type": "stream",
     "text": [
      "Mean of Amount:  800.0\n"
     ]
    }
   ],
   "source": [
    "#Calculating mean of column 'Amount'.\n",
    "amount_mean=merged_dataset['Amount'].mean()\n",
    "print(\"Mean of Amount: \",amount_mean)"
   ]
  },
  {
   "cell_type": "code",
   "execution_count": 156,
   "id": "e0f149e4",
   "metadata": {},
   "outputs": [
    {
     "name": "stdout",
     "output_type": "stream",
     "text": [
      "Median of Amount:  800.0\n"
     ]
    }
   ],
   "source": [
    "#Calculating median of column 'Amount'.\n",
    "amount_median=merged_dataset['Amount'].median()\n",
    "print(\"Median of Amount: \",amount_median)"
   ]
  }
 ],
 "metadata": {
  "kernelspec": {
   "display_name": "Python 3",
   "language": "python",
   "name": "python3"
  },
  "language_info": {
   "codemirror_mode": {
    "name": "ipython",
    "version": 3
   },
   "file_extension": ".py",
   "mimetype": "text/x-python",
   "name": "python",
   "nbconvert_exporter": "python",
   "pygments_lexer": "ipython3",
   "version": "3.11.3"
  }
 },
 "nbformat": 4,
 "nbformat_minor": 5
}
