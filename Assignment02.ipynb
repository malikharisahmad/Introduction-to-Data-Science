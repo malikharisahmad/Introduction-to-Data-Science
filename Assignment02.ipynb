{
 "cells": [
  {
   "cell_type": "markdown",
   "id": "415f3f37-d7ce-4802-be93-a8fab9842277",
   "metadata": {},
   "source": [
    "# Part 1: User Data Processing with Lists"
   ]
  },
  {
   "cell_type": "code",
   "execution_count": 16,
   "id": "2907be2f-fc50-454e-bbe4-12e6e2daa1b1",
   "metadata": {},
   "outputs": [],
   "source": [
    "# Filter users based on age and country\n",
    "def filter_users_by_age_and_country(users):\n",
    "    filtered_users = []\n",
    "    for user in users:\n",
    "        if user[2] > 30 and user[3] in ['USA', 'Canada']:\n",
    "            filtered_users.append(user[1])\n",
    "    return filtered_users"
   ]
  },
  {
   "cell_type": "code",
   "execution_count": 17,
   "id": "a84ac6e3-230a-4767-9f2b-40489485713e",
   "metadata": {},
   "outputs": [],
   "source": [
    "# Sort users by age in descending order and return top 10\n",
    "def sort_users_by_age(users):\n",
    "    sorted_users = []\n",
    "    for user in sorted(users, key=lambda x: x[2], reverse=True):\n",
    "        sorted_users.append(user)\n",
    "    return sorted_users[:10]"
   ]
  },
  {
   "cell_type": "code",
   "execution_count": 18,
   "id": "45e0aa79-8f77-4005-8a3a-4219efa4e6d0",
   "metadata": {},
   "outputs": [],
   "source": [
    "# Find duplicate names in the user list\n",
    "def find_duplicate_names(users):\n",
    "    names = [user[1] for user in users]\n",
    "    duplicate_names = [name for name in set(names) if names.count(name) > 1]\n",
    "    return duplicate_names"
   ]
  },
  {
   "cell_type": "code",
   "execution_count": 19,
   "id": "f9657a3c-15f0-4c24-97ea-8848202f0cd0",
   "metadata": {},
   "outputs": [],
   "source": [
    "# Main function to test everything\n",
    "def main():\n",
    "    users = [\n",
    "        [\"user1\", \"Haris\", 25, \"USA\"],\n",
    "        [\"user2\", \"Ahmad\", 35, \"Canada\"],\n",
    "        [\"user3\", \"Ali\", 40, \"USA\"],\n",
    "        [\"user4\", \"Murtaza\", 20, \"Canada\"],\n",
    "        [\"user5\", \"Jawad\", 30, \"USA\"],\n",
    "        [\"user6\", \"Kamran\", 45, \"Canada\"],\n",
    "        [\"user7\", \"Ali\", 50, \"USA\"],\n",
    "        [\"user8\", \"Haris\", 25, \"Canada\"],\n",
    "    ]\n",
    "\n",
    "    # Run all the functions and print results\n",
    "    print(\"Filtered users by age and country:\", filter_users_by_age_and_country(users))\n",
    "    print(\"Sorted users by age:\", sort_users_by_age(users))\n",
    "    print(\"Duplicate names:\", find_duplicate_names(users))"
   ]
  },
  {
   "cell_type": "code",
   "execution_count": 20,
   "id": "35ade61d-6f2a-491e-ab8d-081dcb784f85",
   "metadata": {},
   "outputs": [
    {
     "name": "stdout",
     "output_type": "stream",
     "text": [
      "Filtered users by age and country: ['Ahmad', 'Ali', 'Kamran', 'Ali']\n",
      "Sorted users by age: [['user7', 'Ali', 50, 'USA'], ['user6', 'Kamran', 45, 'Canada'], ['user3', 'Ali', 40, 'USA'], ['user2', 'Ahmad', 35, 'Canada'], ['user5', 'Jawad', 30, 'USA'], ['user1', 'Haris', 25, 'USA'], ['user8', 'Haris', 25, 'Canada'], ['user4', 'Murtaza', 20, 'Canada']]\n",
      "Duplicate names: ['Ali', 'Haris']\n"
     ]
    }
   ],
   "source": [
    "# This block runs the main function when the script is executed directly.\n",
    "if __name__ == \"__main__\":\n",
    "    main()"
   ]
  },
  {
   "cell_type": "markdown",
   "id": "c68c1545-fe1e-4e22-8a8d-8d4361bf7151",
   "metadata": {},
   "source": [
    "# Part 2: Immutable Data Management with Tuples"
   ]
  },
  {
   "cell_type": "code",
   "execution_count": 21,
   "id": "ef4fb6e4-62eb-4d02-8b03-ae31558d7fc4",
   "metadata": {},
   "outputs": [],
   "source": [
    "# Function to find the number of unique users in transactions\n",
    "def find_unique_users(transactions):\n",
    "    unique_users = set(transaction[1] for transaction in transactions)\n",
    "    return len(unique_users)"
   ]
  },
  {
   "cell_type": "code",
   "execution_count": 22,
   "id": "bce8d1fb-5980-46cc-9bee-f98f905157ff",
   "metadata": {},
   "outputs": [],
   "source": [
    "# Function to find the transaction with the highest amount\n",
    "def find_highest_amount_transaction(transactions):\n",
    "    highest_amount_transaction = max(transactions, key=lambda x: x[2])\n",
    "    return highest_amount_transaction"
   ]
  },
  {
   "cell_type": "code",
   "execution_count": 23,
   "id": "7465cf9a-5936-47f8-9433-ee43d01859ab",
   "metadata": {},
   "outputs": [],
   "source": [
    "# Function to separate transaction IDs and user IDs\n",
    "def separate_transaction_ids_and_user_ids(transactions):\n",
    "    transaction_ids = [transaction[0] for transaction in transactions]\n",
    "    user_ids = [transaction[1] for transaction in transactions]\n",
    "    return transaction_ids, user_ids"
   ]
  },
  {
   "cell_type": "code",
   "execution_count": 24,
   "id": "17ce9e85-c3fb-4705-ae59-84abf643bb31",
   "metadata": {},
   "outputs": [],
   "source": [
    "# Main function to test the above functions\n",
    "def main():\n",
    "    transactions = [\n",
    "        (1, \"user1\", 100),\n",
    "        (2, \"user2\", 200),\n",
    "        (3, \"user3\", 300),\n",
    "        (4, \"user4\", 400),\n",
    "        (5, \"user5\", 500),\n",
    "        (6, \"user6\", 600),\n",
    "        (7, \"user7\", 700),\n",
    "        (8, \"user8\", 800),\n",
    "    ]\n",
    "    \n",
    "    # Run and print the results of each function\n",
    "    print(\"Unique users:\", find_unique_users(transactions))\n",
    "    print(\"Highest amount transaction:\", find_highest_amount_transaction(transactions))\n",
    "    print(\"Transaction IDs and user IDs:\", separate_transaction_ids_and_user_ids(transactions))"
   ]
  },
  {
   "cell_type": "code",
   "execution_count": 25,
   "id": "73a0b63c-be6d-4576-9322-c50c78975c37",
   "metadata": {},
   "outputs": [
    {
     "name": "stdout",
     "output_type": "stream",
     "text": [
      "Unique users: 8\n",
      "Highest amount transaction: (8, 'user8', 800)\n",
      "Transaction IDs and user IDs: ([1, 2, 3, 4, 5, 6, 7, 8], ['user1', 'user2', 'user3', 'user4', 'user5', 'user6', 'user7', 'user8'])\n"
     ]
    }
   ],
   "source": [
    "# This block runs the main function when the script is executed directly.\n",
    "if __name__ == \"__main__\":\n",
    "    main()"
   ]
  },
  {
   "cell_type": "markdown",
   "id": "d71c1b61-eb53-4f84-a548-6a29a528eb87",
   "metadata": {},
   "source": [
    "# Part 3: Unique Data Handling with Sets"
   ]
  },
  {
   "cell_type": "code",
   "execution_count": 26,
   "id": "c55ecc0d-a414-49ba-b092-8257ef7d05a4",
   "metadata": {},
   "outputs": [],
   "source": [
    "# This function finds users who visited both pages A and B.\n",
    "def find_users_visited_both_pages(page_a, page_b):\n",
    "    users_visited_both_pages = page_a.intersection(page_b)\n",
    "    return users_visited_both_pages"
   ]
  },
  {
   "cell_type": "code",
   "execution_count": 27,
   "id": "10df8e7d-70bc-432a-93d3-cafeec2c449f",
   "metadata": {},
   "outputs": [],
   "source": [
    "# This function finds users who visited either page A or page C, but not both.\n",
    "def find_users_visited_either_page(page_a, page_c):\n",
    "    users_visited_either_page = page_a.symmetric_difference(page_c)\n",
    "    return users_visited_either_page"
   ]
  },
  {
   "cell_type": "code",
   "execution_count": 28,
   "id": "404d1b64-60ae-4ade-92ec-1248bb76e216",
   "metadata": {},
   "outputs": [],
   "source": [
    "# This function updates page A with new user IDs provided in the new_user_ids set.\n",
    "def update_page_a(page_a, new_user_ids):\n",
    "    page_a.update(new_user_ids)\n",
    "    return page_a"
   ]
  },
  {
   "cell_type": "code",
   "execution_count": 29,
   "id": "c6091803-ea63-427e-8a17-4f4ebdd38ef7",
   "metadata": {},
   "outputs": [],
   "source": [
    "# This function removes specified user IDs from page B.\n",
    "def remove_user_ids_from_page_b(page_b, user_ids_to_remove):\n",
    "    page_b.difference_update(user_ids_to_remove)\n",
    "    return page_b"
   ]
  },
  {
   "cell_type": "code",
   "execution_count": 30,
   "id": "00ab8c7c-3fdd-4ed7-99c9-d97e31e8d42d",
   "metadata": {},
   "outputs": [],
   "source": [
    "# This function initializes user sets for three pages and calls the other functions to demonstrate their functionality.\n",
    "def main():\n",
    "    page_a = {\"user1\", \"user2\", \"user3\"}\n",
    "    page_b = {\"user2\", \"user3\", \"user4\"}\n",
    "    page_c = {\"user1\", \"user4\", \"user5\"}\n",
    "    print(\"Users visited both pages:\", find_users_visited_both_pages(page_a, page_b))\n",
    "    print(\"Users visited either page:\", find_users_visited_either_page(page_a, page_c))\n",
    "    print(\"Updated page A:\", update_page_a(page_a, {\"user6\", \"user7\"}))\n",
    "    print(\"Removed user IDs from page B:\", remove_user_ids_from_page_b(page_b, {\"user2\", \"user3\"}))"
   ]
  },
  {
   "cell_type": "code",
   "execution_count": 31,
   "id": "27c8c73d-d9f2-4634-85ec-51a1cc441672",
   "metadata": {},
   "outputs": [
    {
     "name": "stdout",
     "output_type": "stream",
     "text": [
      "Users visited both pages: {'user2', 'user3'}\n",
      "Users visited either page: {'user3', 'user4', 'user2', 'user5'}\n",
      "Updated page A: {'user6', 'user1', 'user3', 'user7', 'user2'}\n",
      "Removed user IDs from page B: {'user4'}\n"
     ]
    }
   ],
   "source": [
    "# This block runs the main function when the script is executed directly.\n",
    "if __name__ == \"__main__\":\n",
    "    main()"
   ]
  },
  {
   "cell_type": "markdown",
   "id": "52d1044b-2e4f-443c-afca-9ec68f374b9c",
   "metadata": {},
   "source": [
    "# Part 4: Data Aggregation with Dictionaries"
   ]
  },
  {
   "cell_type": "code",
   "execution_count": 32,
   "id": "b2290846-d76f-4810-8068-c192e260b69c",
   "metadata": {},
   "outputs": [],
   "source": [
    "# This function filters feedback entries with a rating of 4 or higher,\n",
    "# sorts them in descending order by rating, and returns the top 5 entries.\n",
    "def filter_and_sort_feedback(feedback_dict):\n",
    "    filtered_feedback = {user_id: user_feedback for user_id, user_feedback in feedback_dict.items() if user_feedback['rating'] >= 4}\n",
    "    sorted_feedback = dict(sorted(filtered_feedback.items(), key=lambda item: item[1]['rating'], reverse=True))\n",
    "    return dict(list(sorted_feedback.items())[:5])"
   ]
  },
  {
   "cell_type": "code",
   "execution_count": 33,
   "id": "2a121d56-a042-4c3b-82ba-8c28e573ac56",
   "metadata": {},
   "outputs": [],
   "source": [
    "# This function combines feedback from two dictionaries,\n",
    "# keeping the highest rating and merging the comments for each user.\n",
    "def combine_feedback(dict1, dict2):\n",
    "    combined_feedback = {}\n",
    "    for user_id in set(list(dict1.keys()) + list(dict2.keys())):\n",
    "        rating1 = dict1.get(user_id, {}).get('rating', 0)\n",
    "        rating2 = dict2.get(user_id, {}).get('rating', 0)\n",
    "        combined_rating = max(rating1, rating2)\n",
    "        comments1 = dict1.get(user_id, {}).get('comments', [])\n",
    "        comments2 = dict2.get(user_id, {}).get('comments', [])\n",
    "        combined_comments = comments1 + comments2\n",
    "        combined_feedback[user_id] = {'rating': combined_rating, 'comments': combined_comments}\n",
    "    return combined_feedback"
   ]
  },
  {
   "cell_type": "code",
   "execution_count": 34,
   "id": "31e3c366-d8b2-4bcf-897d-d7c0f60ec721",
   "metadata": {},
   "outputs": [],
   "source": [
    "# This function returns a dictionary of users who have a rating greater than 3,\n",
    "# mapping user IDs to their ratings.\n",
    "def users_with_high_rating(feedback_dict):\n",
    "    return {user_id: user_feedback['rating'] for user_id, user_feedback in feedback_dict.items() if user_feedback['rating'] > 3}"
   ]
  },
  {
   "cell_type": "code",
   "execution_count": 35,
   "id": "a2be98a8-f00a-4a20-8e78-1d9d642ea736",
   "metadata": {},
   "outputs": [],
   "source": [
    "# This function initializes two dictionaries of feedback and demonstrates the functionality\n",
    "# of the filtering, combining, and rating retrieval functions.\n",
    "def main():\n",
    "    feedback_dict1 = {\n",
    "        \"user1\": {\"rating\": 4, \"comments\": []},\n",
    "        \"user2\": {\"rating\": 3, \"comments\": []},\n",
    "        \"user3\": {\"rating\": 5, \"comments\": []},\n",
    "        \"user4\": {\"rating\": 2, \"comments\": []},\n",
    "        \"user5\": {\"rating\": 4, \"comments\": []}\n",
    "    }\n",
    "    feedback_dict2 = {\n",
    "        \"user1\": {\"rating\": 5, \"comments\": []},\n",
    "        \"user2\": {\"rating\": 4, \"comments\": []},\n",
    "        \"user3\": {\"rating\": 3, \"comments\": []},\n",
    "        \"user6\": {\"rating\": 5, \"comments\": []},\n",
    "        \"user7\": {\"rating\": 4, \"comments\": []}\n",
    "    }\n",
    "    print(\"Filtered and sorted feedback:\", filter_and_sort_feedback(feedback_dict1))\n",
    "    print(\"Combined feedback:\", combine_feedback(feedback_dict1, feedback_dict2))\n",
    "    print(\"Users with high rating:\", users_with_high_rating(feedback_dict1))"
   ]
  },
  {
   "cell_type": "code",
   "execution_count": 36,
   "id": "4576172e-ac31-4ce6-9928-79412fe556b5",
   "metadata": {},
   "outputs": [
    {
     "name": "stdout",
     "output_type": "stream",
     "text": [
      "Filtered and sorted feedback: {'user3': {'rating': 5, 'comments': []}, 'user1': {'rating': 4, 'comments': []}, 'user5': {'rating': 4, 'comments': []}}\n",
      "Combined feedback: {'user3': {'rating': 5, 'comments': []}, 'user7': {'rating': 4, 'comments': []}, 'user4': {'rating': 2, 'comments': []}, 'user6': {'rating': 5, 'comments': []}, 'user1': {'rating': 5, 'comments': []}, 'user2': {'rating': 4, 'comments': []}, 'user5': {'rating': 4, 'comments': []}}\n",
      "Users with high rating: {'user1': 4, 'user3': 5, 'user5': 4}\n"
     ]
    }
   ],
   "source": [
    "# This block runs the main function when the script is executed directly.\n",
    "if __name__ == \"__main__\":\n",
    "    main()"
   ]
  }
 ],
 "metadata": {
  "kernelspec": {
   "display_name": "Python 3 (ipykernel)",
   "language": "python",
   "name": "python3"
  },
  "language_info": {
   "codemirror_mode": {
    "name": "ipython",
    "version": 3
   },
   "file_extension": ".py",
   "mimetype": "text/x-python",
   "name": "python",
   "nbconvert_exporter": "python",
   "pygments_lexer": "ipython3",
   "version": "3.11.3"
  }
 },
 "nbformat": 4,
 "nbformat_minor": 5
}
