{
 "cells": [
  {
   "cell_type": "markdown",
   "id": "db7730f9-a393-428f-bdb3-c9bae075a25f",
   "metadata": {},
   "source": [
    "<h1> Task 1: E-commerce Data Processing </h1>"
   ]
  },
  {
   "cell_type": "code",
   "execution_count": 13,
   "id": "1cde27e4-abfa-4034-880a-50ac36d5a91b",
   "metadata": {},
   "outputs": [],
   "source": [
    "from typing import List, Dict, Any\n",
    "from functools import reduce"
   ]
  },
  {
   "cell_type": "code",
   "execution_count": 14,
   "id": "a12df703-6ff6-4575-9161-7601a658feba",
   "metadata": {},
   "outputs": [],
   "source": [
    "def filter_valid_orders(orders: List[Dict[str, Any]]) -> List[Dict[str, Any]]:\n",
    "    # Using filter() and a lambda function to filter valid orders\n",
    "    valid_orders = list(filter(lambda order: isinstance(order.get(\"total\"), (int, float)) and order[\"total\"] >= 0, orders))\n",
    "    return valid_orders"
   ]
  },
  {
   "cell_type": "code",
   "execution_count": 15,
   "id": "5144b2d7-0f44-4250-b23e-d1e53b9f8af4",
   "metadata": {},
   "outputs": [],
   "source": [
    "def apply_discount_to_orders(valid_orders: List[Dict[str, Any]]) -> List[Dict[str, Any]]:\n",
    "    # Using map() and a lambda function to apply discounts\n",
    "    discounted_orders = list(map(lambda order: {**order, \"total\": order[\"total\"] * 0.9} if order[\"total\"] > 300 else order, valid_orders))\n",
    "    return discounted_orders"
   ]
  },
  {
   "cell_type": "code",
   "execution_count": 29,
   "id": "4c316e8e-4766-4d03-8823-573873b88b5b",
   "metadata": {},
   "outputs": [],
   "source": [
    "def compute_total_sales(discounted_orders: List[Dict[str, Any]]) -> float:\n",
    "    # Using reduce() and lambda function to sum the totals\n",
    "    total_sales = reduce(lambda total, order: total + order[\"total\"], discounted_orders, 0.0)\n",
    "    return total_sales"
   ]
  },
  {
   "cell_type": "code",
   "execution_count": 30,
   "id": "a1ef4f21-1716-4264-8ae5-f193f09172b5",
   "metadata": {},
   "outputs": [],
   "source": [
    "# Main function to test everything\n",
    "def main():\n",
    "    orders = [\n",
    "        {\"customer\": \"Ali\", \"total\": 250.5},\n",
    "        {\"customer\": \"Bilal\", \"total\": \"invalid_data\"},\n",
    "        {\"customer\": \"Haris\", \"total\": 450},\n",
    "        {\"customer\": \"Rehan\", \"total\": 100.0},\n",
    "        {\"customer\": \"Abdullah\", \"total\": -30},\n",
    "    ]\n",
    "\n",
    "    # Part A: Validate Orders\n",
    "    valid_orders = filter_valid_orders(orders)\n",
    "    print(\"Valid Orders:\", valid_orders)\n",
    "\n",
    "    # Part B: Apply Discounts\n",
    "    discounted_orders = apply_discount_to_orders(valid_orders)\n",
    "    print(\"Discounted Orders:\", discounted_orders)\n",
    "\n",
    "    # Part C: Calculate Total Sales\n",
    "    total_sales = compute_total_sales(discounted_orders)\n",
    "    print(\"Total Sales:\", total_sales)"
   ]
  },
  {
   "cell_type": "code",
   "execution_count": 31,
   "id": "78edf5ad-a20f-44de-9a90-15d85fbd2d9b",
   "metadata": {},
   "outputs": [
    {
     "name": "stdout",
     "output_type": "stream",
     "text": [
      "Valid Orders: [{'customer': 'Ali', 'total': 250.5}, {'customer': 'Haris', 'total': 450}, {'customer': 'Rehan', 'total': 100.0}]\n",
      "Discounted Orders: [{'customer': 'Ali', 'total': 250.5}, {'customer': 'Haris', 'total': 405.0}, {'customer': 'Rehan', 'total': 100.0}]\n",
      "Total Sales: 755.5\n"
     ]
    }
   ],
   "source": [
    "# This block runs the main function when the script is executed directly.\n",
    "if __name__ == \"__main__\":\n",
    "    main()"
   ]
  },
  {
   "cell_type": "markdown",
   "id": "f0690323-c2f7-4391-931c-fe2b757091be",
   "metadata": {},
   "source": [
    "<h1> Task 2: Iterator and Generator </h1>"
   ]
  },
  {
   "cell_type": "code",
   "execution_count": 32,
   "id": "2cc241ac-056c-4998-a7ed-85b6198e705f",
   "metadata": {},
   "outputs": [],
   "source": [
    "#Initializes with a number 'n' and iterates over the first 'n' natural numbers, yielding their squares.\n",
    "class SquareIterator:\n",
    "    def __init__(self, n):\n",
    "        self.n = n\n",
    "        self.current = 0\n",
    "\n",
    "    def __iter__(self):\n",
    "        return self\n",
    "\n",
    "    def __next__(self):\n",
    "        if self.current < self.n:\n",
    "            result = self.current ** 2\n",
    "            self.current += 1\n",
    "            return result\n",
    "        else:\n",
    "            raise StopIteration"
   ]
  },
  {
   "cell_type": "code",
   "execution_count": 33,
   "id": "886a46c6-4f3c-4d79-b475-ac85b0fdac63",
   "metadata": {},
   "outputs": [],
   "source": [
    "#Generates the Fibonacci sequence up to the number 'n' by yielding each number in the sequence.\n",
    "def fibonacci_generator(n):\n",
    "    a, b = 0, 1\n",
    "    for _ in range(n):\n",
    "        yield a\n",
    "        a, b = b, a + b"
   ]
  },
  {
   "cell_type": "code",
   "execution_count": 34,
   "id": "22257b11-e29c-4af1-8d76-2d012b876767",
   "metadata": {},
   "outputs": [],
   "source": [
    "def main():\n",
    "    # Test the SquareIterator class\n",
    "    n_square = 5\n",
    "    square_iterator = SquareIterator(n_square)\n",
    "    print(f\"Squares of the first {n_square} natural numbers:\")\n",
    "    for square in square_iterator:\n",
    "        print(square)\n",
    "\n",
    "    # Test the fibonacci_generator function\n",
    "    n_fibonacci = 10\n",
    "    print(f\"\\nFibonacci sequence up to {n_fibonacci}:\")\n",
    "    for num in fibonacci_generator(n_fibonacci):\n",
    "        print(num)"
   ]
  },
  {
   "cell_type": "code",
   "execution_count": 35,
   "id": "7042efa2-0180-4805-82d6-91dd1d3f4e0a",
   "metadata": {},
   "outputs": [
    {
     "name": "stdout",
     "output_type": "stream",
     "text": [
      "Squares of the first 5 natural numbers:\n",
      "0\n",
      "1\n",
      "4\n",
      "9\n",
      "16\n",
      "\n",
      "Fibonacci sequence up to 10:\n",
      "0\n",
      "1\n",
      "1\n",
      "2\n",
      "3\n",
      "5\n",
      "8\n",
      "13\n",
      "21\n",
      "34\n"
     ]
    }
   ],
   "source": [
    "# Call the main function to test both the SquareIterator and fibonacci_generator\n",
    "if __name__ == \"__main__\":\n",
    "    main()"
   ]
  },
  {
   "cell_type": "markdown",
   "id": "c1322398-0bab-4369-b10b-570bb0449537",
   "metadata": {},
   "source": [
    "<h1> Task 3: Exception Handling and Function Decorator </h1>"
   ]
  },
  {
   "cell_type": "code",
   "execution_count": 36,
   "id": "18b6765d-5eca-4429-88df-d51ed34a7a06",
   "metadata": {},
   "outputs": [],
   "source": [
    "import functools"
   ]
  },
  {
   "cell_type": "code",
   "execution_count": 37,
   "id": "0eae1e57-04da-499b-aec9-64ca24efb501",
   "metadata": {},
   "outputs": [],
   "source": [
    "# Custom exception class for division errors\n",
    "class DivisionError(Exception):\n",
    "    def __init__(self, message):\n",
    "        super().__init__(message)\n",
    "\n",
    "# Function to divide numbers by a divisor with chained exceptions\n",
    "def divide_numbers(numbers, divisor):\n",
    "    try:\n",
    "        if divisor == 0:\n",
    "            raise DivisionError(\"Divisor cannot be zero.\")\n",
    "        results = []\n",
    "        # Attempt to divide each number by the divisor\n",
    "        for number in numbers:\n",
    "            try:\n",
    "                results.append(number / divisor)\n",
    "            except TypeError as e:\n",
    "                # Raise a TypeError and chain it to the custom exception\n",
    "                raise DivisionError(f\"Non-numeric input encountered: {number}\") from e\n",
    "        return results\n",
    "    \n",
    "    except DivisionError as e:\n",
    "        # Print the chained exception message\n",
    "        print(f\"Error: {e}\")\n",
    "        raise  # Re-raise the exception for further handling if needed"
   ]
  },
  {
   "cell_type": "code",
   "execution_count": 38,
   "id": "48cb71c0-58c8-4a21-bff5-17ccf8fe917d",
   "metadata": {},
   "outputs": [],
   "source": [
    "# Decorator for logging exceptions\n",
    "def log_exceptions(func):\n",
    "    @functools.wraps(func)\n",
    "    def wrapper(*args, **kwargs):\n",
    "        try:\n",
    "            return func(*args, **kwargs)\n",
    "        except Exception as e:\n",
    "            # Log the exception type, message, and function name\n",
    "            print(f\"Exception occurred in function '{func.__name__}': {type(e).__name__} - {e}\")\n",
    "            raise  # Re-raise the exception for further handling if needed\n",
    "    return wrapper\n",
    "\n",
    "# Example function to demonstrate the decorator\n",
    "@log_exceptions\n",
    "def safe_divide(numbers, divisor):\n",
    "    return divide_numbers(numbers, divisor)"
   ]
  },
  {
   "cell_type": "code",
   "execution_count": 39,
   "id": "37e050b5-a05e-47ef-8d6d-c72f9cbaec6e",
   "metadata": {},
   "outputs": [],
   "source": [
    "def main():\n",
    "    # Test cases for divide_numbers\n",
    "    numbers_with_non_numeric = [10, 20, 'a', 30]  # Test with a non-numeric input\n",
    "    divisor_zero = 0  # Test with a zero divisor\n",
    "    valid_numbers = [10, 20, 30]  # Valid numbers\n",
    "\n",
    "    print(\"Testing divide_numbers with non-numeric input:\")\n",
    "    try:\n",
    "        results = divide_numbers(numbers_with_non_numeric, divisor_zero)\n",
    "        print(\"Results:\", results)\n",
    "    except Exception as e:\n",
    "        print(\"Caught an exception in main:\", e)\n",
    "\n",
    "    print(\"\\nTesting safe_divide with zero divisor:\")\n",
    "    try:\n",
    "        results = safe_divide(valid_numbers, divisor_zero)\n",
    "        print(\"Results:\", results)\n",
    "    except Exception as e:\n",
    "        print(\"Caught an exception in main:\", e)"
   ]
  },
  {
   "cell_type": "code",
   "execution_count": 40,
   "id": "69e43e41-a897-4965-998f-cdd5050b96e6",
   "metadata": {},
   "outputs": [
    {
     "name": "stdout",
     "output_type": "stream",
     "text": [
      "Testing divide_numbers with non-numeric input:\n",
      "Error: Divisor cannot be zero.\n",
      "Caught an exception in main: Divisor cannot be zero.\n",
      "\n",
      "Testing safe_divide with zero divisor:\n",
      "Error: Divisor cannot be zero.\n",
      "Exception occurred in function 'safe_divide': DivisionError - Divisor cannot be zero.\n",
      "Caught an exception in main: Divisor cannot be zero.\n"
     ]
    }
   ],
   "source": [
    "# This block runs the main function when the script is executed directly.\n",
    "if __name__ == \"__main__\":\n",
    "    main()"
   ]
  }
 ],
 "metadata": {
  "kernelspec": {
   "display_name": "Python 3 (ipykernel)",
   "language": "python",
   "name": "python3"
  },
  "language_info": {
   "codemirror_mode": {
    "name": "ipython",
    "version": 3
   },
   "file_extension": ".py",
   "mimetype": "text/x-python",
   "name": "python",
   "nbconvert_exporter": "python",
   "pygments_lexer": "ipython3",
   "version": "3.11.3"
  }
 },
 "nbformat": 4,
 "nbformat_minor": 5
}
