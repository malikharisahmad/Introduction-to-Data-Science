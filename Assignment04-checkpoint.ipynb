{
 "cells": [
  {
   "cell_type": "markdown",
   "id": "eb7011a1-7dec-408d-bb7a-b4f35b90f780",
   "metadata": {},
   "source": [
    "<h1>Scenario: Climate Data Analysis for a Research Center</h1>"
   ]
  },
  {
   "cell_type": "markdown",
   "id": "e21cf849-72af-4ddc-aa22-d3210affe3ad",
   "metadata": {},
   "source": [
    "<h2>Assignment Tasks</h2>"
   ]
  },
  {
   "cell_type": "code",
   "execution_count": 17,
   "id": "429184aa-ff76-4b0f-a8bd-fb7d4865e0c5",
   "metadata": {},
   "outputs": [],
   "source": [
    "import numpy as np"
   ]
  },
  {
   "cell_type": "code",
   "execution_count": 18,
   "id": "a15550d1-7ebd-41ff-867b-512079927a97",
   "metadata": {},
   "outputs": [],
   "source": [
    "# Task 1: Initialize Temperature and Humidity Data\n",
    "temperature_data = np.random.uniform(-10, 40, size=(500, 365))  # Random temperatures in Celsius\n",
    "humidity_data = np.random.uniform(0, 100, size=(500, 365))  # Random humidity percentages"
   ]
  },
  {
   "cell_type": "code",
   "execution_count": 19,
   "id": "d866b64a-e7ae-445a-bbeb-fd0ac7578a58",
   "metadata": {},
   "outputs": [
    {
     "name": "stdout",
     "output_type": "stream",
     "text": [
      "Total missing entries: 18172\n"
     ]
    }
   ],
   "source": [
    "# Task 2: Check for Missing Data\n",
    "missing_mask_temp = np.random.choice([True, False], size=temperature_data.shape, p=[0.05, 0.95])\n",
    "missing_mask_humidity = np.random.choice([True, False], size=humidity_data.shape, p=[0.05, 0.95])\n",
    "temperature_data[missing_mask_temp] = np.nan\n",
    "humidity_data[missing_mask_humidity] = np.nan\n",
    "# Count null values\n",
    "temp_nulls = np.isnan(temperature_data).sum()\n",
    "humidity_nulls = np.isnan(humidity_data).sum()\n",
    "total_nulls = temp_nulls + humidity_nulls\n",
    "print(f\"Total missing entries: {total_nulls}\")"
   ]
  },
  {
   "cell_type": "code",
   "execution_count": 20,
   "id": "6af6173b-38e1-4137-bec5-3e9c7466e432",
   "metadata": {},
   "outputs": [],
   "source": [
    "# Task 3: Convert Temperature and Calculate Discomfort Index\n",
    "temperature_f = (temperature_data * 9/5) + 32\n",
    "feels_like = 0.5 * (temperature_f + 61.0 + ((temperature_f - 68.0) * 1.2) + (humidity_data * 0.094))\n",
    "feels_like = np.minimum(feels_like, 80)"
   ]
  },
  {
   "cell_type": "code",
   "execution_count": 21,
   "id": "d5d0fcb2-eff2-4ba0-ad17-8571ca00a6b3",
   "metadata": {},
   "outputs": [
    {
     "name": "stdout",
     "output_type": "stream",
     "text": [
      "Average January temperature: 15.08°C\n"
     ]
    }
   ],
   "source": [
    "# Task 4: Analyze January Temperatures\n",
    "january_temps = temperature_data[:, :31]\n",
    "avg_january_temp = np.nanmean(january_temps)\n",
    "\n",
    "print(f\"Average January temperature: {avg_january_temp:.2f}°C\")"
   ]
  },
  {
   "cell_type": "code",
   "execution_count": 22,
   "id": "d958befa-cb35-48f1-b330-96646e1c25a3",
   "metadata": {},
   "outputs": [],
   "source": [
    "# Task 5: Identify Extreme Temperatures\n",
    "extreme_mask = temperature_data > 35\n",
    "temperature_data[extreme_mask] = np.nan\n",
    "null_counts_per_location = np.isnan(temperature_data).sum(axis=1)"
   ]
  },
  {
   "cell_type": "code",
   "execution_count": 23,
   "id": "d208894d-f9c6-4830-b423-4c07dd6f0434",
   "metadata": {},
   "outputs": [
    {
     "name": "stdout",
     "output_type": "stream",
     "text": [
      "Quarterly average temperatures shape: (500, 4)\n",
      "Quarterly average temperatures (first location): [11.97181447 15.82881385 16.1511908  11.58528729]\n"
     ]
    }
   ],
   "source": [
    "# Task 6: Calculate Quarterly Temperature Averages\n",
    "# Define the quarters\n",
    "q1 = temperature_data[:,:90]    # First 90 days\n",
    "q2 = temperature_data[:,90:181] # Next 91 days\n",
    "q3 = temperature_data[:,181:273] # Next 92 days\n",
    "q4 = temperature_data[:,273:]   # Remaining 92 days\n",
    "# Calculate quarterly averages\n",
    "q1_avg = np.nanmean(q1,axis=1)\n",
    "q2_avg = np.nanmean(q2,axis=1)\n",
    "q3_avg = np.nanmean(q3,axis=1)\n",
    "q4_avg = np.nanmean(q4,axis=1)\n",
    "# Combine into a single array\n",
    "quarterly_avg = np.column_stack((q1_avg, q2_avg, q3_avg, q4_avg))\n",
    "print(\"Quarterly average temperatures shape:\", quarterly_avg.shape)\n",
    "print(\"Quarterly average temperatures (first location):\", quarterly_avg[0])"
   ]
  },
  {
   "cell_type": "code",
   "execution_count": 24,
   "id": "50c220ff-e17b-4043-be87-74b2803caff4",
   "metadata": {},
   "outputs": [],
   "source": [
    "# Task 7: Classify Humidity Levels\n",
    "dry_days = humidity_data < 30\n",
    "humid_days = humidity_data > 70\n",
    "dry_count = np.sum(dry_days, axis=1)\n",
    "humid_count = np.sum(humid_days, axis=1)"
   ]
  },
  {
   "cell_type": "code",
   "execution_count": 25,
   "id": "035f77d8-b2be-434e-938e-ef5d2ef446ee",
   "metadata": {},
   "outputs": [
    {
     "name": "stdout",
     "output_type": "stream",
     "text": [
      "Dry days count per location: [113 110 109 115  98 102 118 106  99  91 101 130 120 112  93  93  95 111\n",
      " 110 107 117 119 104 102  97 109 119 120 110 105  94  94 103 110  98 103\n",
      " 103 101  98 104 124 107  91  92 115 110 104  94 105 106 108  91 110  99\n",
      " 100 102 102 100  93 108 102 114  97  96 108  98 116 111 109 109 105 113\n",
      " 101 120 116  95  94 105 101 105 113  97  91 117  99 112 110 103 105 111\n",
      " 123 110 101  99 103 107 101  90  98 107  99 107  98  99 112 115 114 101\n",
      " 105  94 111 106 109  93  98 108 102 107  97 102  97 101 101  93 105  99\n",
      " 112  92 113 108 108  94  97 101 112 108 119  98 103 103 104 109 111 106\n",
      " 113 101  90 107 105  96  97 110  96  99 101 103 107  94 116 105  92  96\n",
      "  96  83  93 102 106 108  96 106 107  90 101 111 129 115  93  99  97  94\n",
      "  89 118  99 112 115 100 101 103  95 105 107 105 114 104 112 104  98  87\n",
      "  98 131 102 110 106 104 104  87  97 102 116 114  96 110 112 114 103 100\n",
      " 108 111 108 111 109  98  97  95  90  93 103 100 121  97  89 109 115 114\n",
      " 131 103 100 106 120 110  99 107  97 108 102  95  98  96 103  89  90 109\n",
      " 124 102  89 106  93 109 118 114  97 108 119 119 124 101  90 117 117 108\n",
      " 105  92  99 112  96  93 105 122 113 105 109 114 102 100 103  95 108  96\n",
      " 110 117 104 103 120 107 118 118 121  99 101  97 102 109  96 107 108  87\n",
      " 117 101 115 109  98  98  99 116 113  99  95 110 108  93 106 103 105  95\n",
      " 110 108  95 108  99 120 118 115 115 100 107 116  91  99  95  97  96 105\n",
      " 103 100 114  98 101  98 101  92 119 120 101 106 107  97 102 104  96 113\n",
      " 114 102  97 104 111 126 116 104  98 106 115 111 115 106  94  99 116  92\n",
      " 117 100 118 115 109 104  88 101  96 103  99 101 113 112 109 119 114 100\n",
      " 100 104  98  95  93 113 102 103 100 107 106 100  94 109 101 102 103 107\n",
      "  99 107 112  89 102 101 106  97 118 111  99  92 107 102  97 102 100 112\n",
      " 115 104 112 106 102 110 102 109  89  93  88 104 120 105  90 106 101  99\n",
      "  98 108 104 114 117  99  98 107  96 117 108  92 111 100 110 111 111 113\n",
      " 113  99 111 100 107 112  96 101 104 104 106 113 108 108  97  92 102  94\n",
      " 108 108 109 100 120  99 104 106 102 102  99 106 109 108]\n"
     ]
    }
   ],
   "source": [
    "# Task 8: Apply Daily Pressure Trend to Temperature Data\n",
    "# Generate a pressure trend (simple linear trend for illustration)\n",
    "pressure_trend = np.linspace(-2, 2, 365)  # Example trend over 365 days\n",
    "# Expand the pressure trend to match the shape of temperature_data\n",
    "pressure_trend_expanded = np.tile(pressure_trend, (500, 1))  # Repeat for 500 locations\n",
    "adjusted_temperature_data = temperature_data + pressure_trend_expanded  # Adjust temperatures\n",
    "# Print some results for verification\n",
    "print(\"Dry days count per location:\", dry_count)"
   ]
  }
 ],
 "metadata": {
  "kernelspec": {
   "display_name": "Python 3 (ipykernel)",
   "language": "python",
   "name": "python3"
  },
  "language_info": {
   "codemirror_mode": {
    "name": "ipython",
    "version": 3
   },
   "file_extension": ".py",
   "mimetype": "text/x-python",
   "name": "python",
   "nbconvert_exporter": "python",
   "pygments_lexer": "ipython3",
   "version": "3.11.3"
  }
 },
 "nbformat": 4,
 "nbformat_minor": 5
}
